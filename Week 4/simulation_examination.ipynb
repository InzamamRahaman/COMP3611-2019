{
 "cells": [
  {
   "cell_type": "code",
   "execution_count": 32,
   "metadata": {},
   "outputs": [
    {
     "name": "stdout",
     "output_type": "stream",
     "text": [
      "The autoreload extension is already loaded. To reload it, use:\n",
      "  %reload_ext autoreload\n",
      "Populating the interactive namespace from numpy and matplotlib\n"
     ]
    }
   ],
   "source": [
    "%load_ext autoreload\n",
    "%autoreload 3\n",
    "%pylab inline"
   ]
  },
  {
   "cell_type": "code",
   "execution_count": 180,
   "metadata": {
    "collapsed": true
   },
   "outputs": [],
   "source": [
    "import numpy as np\n",
    "\n",
    "from FutureEventList import FutureEventList\n",
    "from Customer import Customer\n",
    "from Server import Server\n",
    "from QueueEvents import QueueEvents, ARRIVAL, DEPARTURE\n",
    "from Monitor import Monitor\n",
    "\n",
    "\n",
    "def sample_interrival_time():\n",
    "    return np.random.uniform(1, 20)\n",
    "\n",
    "def sample_service_time():\n",
    "    return np.random.uniform(1, 10)"
   ]
  },
  {
   "cell_type": "code",
   "execution_count": 181,
   "metadata": {
    "collapsed": true
   },
   "outputs": [],
   "source": [
    "MAX_TIME_TO_SIMULATE = 24 * 60 * 30\n",
    "event_list = FutureEventList()\n",
    "first_arrival_time = sample_interrival_time()\n",
    "current_time = 0\n",
    "next_arrival = current_time + first_arrival_time\n",
    "first_arrival = QueueEvents(first_arrival_time, ARRIVAL)\n",
    "event_list.enqueue(first_arrival)\n",
    "customers = []\n",
    "curr_customer = 0\n",
    "num_in_queue = 0\n",
    "num_in_system = 0\n",
    "server = Server()\n",
    "monitor = Monitor()\n",
    "num_in_system_list = []\n",
    "time_list = []\n",
    "num_in_queue_list = []"
   ]
  },
  {
   "cell_type": "code",
   "execution_count": 182,
   "metadata": {
    "scrolled": true
   },
   "outputs": [
    {
     "name": "stdout",
     "output_type": "stream",
     "text": [
      "23888.146458473286\n",
      "0.5529663532054001\n"
     ]
    }
   ],
   "source": [
    "while current_time < MAX_TIME_TO_SIMULATE:\n",
    "    next_event = event_list.dequeue()\n",
    "    current_time = next_event.get_time()\n",
    "    if next_event.event_type == ARRIVAL:\n",
    "        num_in_system += 1\n",
    "        num_in_queue += 1\n",
    "        \n",
    "        next_arrival_time = current_time + sample_interrival_time()\n",
    "        next_arrival_event = QueueEvents(next_arrival_time, ARRIVAL)\n",
    "        event_list.enqueue(next_arrival_event)\n",
    "            \n",
    "        service_time = sample_service_time()\n",
    "        new_customer = Customer(current_time, service_time)\n",
    "        customers.append(new_customer)\n",
    "       \n",
    "        if server.is_free():\n",
    "            server.start_service(customers[curr_customer], current_time)\n",
    "            departure_time = service_time + current_time\n",
    "            departure_event = QueueEvents(departure_time, DEPARTURE)\n",
    "            event_list.enqueue(departure_event)\n",
    "            num_in_queue -= 1\n",
    "            \n",
    "    elif next_event.event_type == DEPARTURE:\n",
    "        \n",
    "        num_in_system -= 1\n",
    "        customers[curr_customer].service_finish = current_time\n",
    "        server.finish_serve(current_time)\n",
    "        curr_customer += 1\n",
    "        \n",
    "        if num_in_queue > 0 and server.is_free():\n",
    "            server.start_service(customers[curr_customer], current_time)\n",
    "            departure_time = customers[curr_customer].service_time + current_time\n",
    "            departure_event = QueueEvents(departure_time, DEPARTURE)\n",
    "            event_list.enqueue(departure_event)\n",
    "            num_in_queue -= 1\n",
    "    time_list.append(current_time)\n",
    "    num_in_system_list.append(num_in_system)\n",
    "    num_in_queue_list.append(num_in_queue)\n",
    "    \n",
    "\n",
    "print(server.time_active)\n",
    "print(server.compute_utilization(MAX_TIME_TO_SIMULATE))\n",
    "\n",
    "\n"
   ]
  },
  {
   "cell_type": "code",
   "execution_count": 183,
   "metadata": {},
   "outputs": [
    {
     "data": {
      "text/plain": [
       "4118"
      ]
     },
     "execution_count": 183,
     "metadata": {},
     "output_type": "execute_result"
    }
   ],
   "source": [
    "len(customers)"
   ]
  },
  {
   "cell_type": "code",
   "execution_count": 184,
   "metadata": {},
   "outputs": [],
   "source": [
    "import matplotlib.pylab as pylab"
   ]
  },
  {
   "cell_type": "code",
   "execution_count": 185,
   "metadata": {},
   "outputs": [
    {
     "data": {
      "text/plain": [
       "[<matplotlib.lines.Line2D at 0x1150d06a0>]"
      ]
     },
     "execution_count": 185,
     "metadata": {},
     "output_type": "execute_result"
    },
    {
     "data": {
      "image/png": "[encoded data removed]",
      "text/plain": [
       "<matplotlib.figure.Figure at 0x114810c88>"
      ]
     },
     "metadata": {},
     "output_type": "display_data"
    }
   ],
   "source": [
    "pylab.plot(time_list, num_in_system_list)"
   ]
  },
  {
   "cell_type": "code",
   "execution_count": 179,
   "metadata": {},
   "outputs": [
    {
     "name": "stdout",
     "output_type": "stream",
     "text": [
      "5.435149760140128\n"
     ]
    }
   ],
   "source": [
    "time_spent_in_system = []\n",
    "for customer in customers:\n",
    "    time_spent = customer.service_finish - customer.arrival_time\n",
    "    if time_spent < 0: break\n",
    "    time_spent_in_system.append(time_spent)\n",
    "print(np.mean(time_spent_in_system))"
   ]
  },
  {
   "cell_type": "code",
   "execution_count": null,
   "metadata": {
    "collapsed": true
   },
   "outputs": [],
   "source": []
  },
  {
   "cell_type": "code",
   "execution_count": null,
   "metadata": {
    "collapsed": true
   },
   "outputs": [],
   "source": []
  }
 ],
 "metadata": {
  "kernelspec": {
   "display_name": "Python 3",
   "language": "python",
   "name": "python3"
  },
  "language_info": {
   "codemirror_mode": {
    "name": "ipython",
    "version": 3
   },
   "file_extension": ".py",
   "mimetype": "text/x-python",
   "name": "python",
   "nbconvert_exporter": "python",
   "pygments_lexer": "ipython3",
   "version": "3.6.3"
  }
 },
 "nbformat": 4,
 "nbformat_minor": 1
}
